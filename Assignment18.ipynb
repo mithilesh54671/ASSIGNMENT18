{
 "cells": [
  {
   "cell_type": "markdown",
   "id": "8a68d569-e4de-4959-8953-718688c1bce3",
   "metadata": {},
   "source": [
    "Q1. What is Web Scraping? Why is it Used? Give three areas where Web Scraping is used to get data."
   ]
  },
  {
   "cell_type": "markdown",
   "id": "c1c41aa0-3d09-4bdb-aaa4-753e15b6f428",
   "metadata": {},
   "source": [
    "Web scraping is used in a variety of digital businesses that rely on data harvesting. Legitimate use cases include: Search engine bots crawling a site, analyzing its content and then ranking it. Price comparison sites deploying bots to auto-fetch prices and product descriptions for allied seller websites."
   ]
  },
  {
   "cell_type": "markdown",
   "id": "52b248be-4d73-42f9-93fa-dc09750a42e0",
   "metadata": {},
   "source": [
    "Q2. What are the different methods used for Web Scraping?"
   ]
  },
  {
   "cell_type": "markdown",
   "id": "e5fc3243-0fdb-4f94-aa83-5333a16513d9",
   "metadata": {},
   "source": [
    "These include using online services, particular API's or even creating your code for web scraping from scratch. Many large websites, like Google, Twitter, Facebook, StackOverflow, etc. have API's that allow you to access their data in a structured format."
   ]
  },
  {
   "cell_type": "markdown",
   "id": "63d95a66-2277-4cc2-96b4-306d5c78e166",
   "metadata": {},
   "source": [
    "Q3. What is Beautiful Soup? Why is it used?"
   ]
  },
  {
   "cell_type": "markdown",
   "id": "e9253bfc-1775-44d7-88db-0213ac72faaa",
   "metadata": {},
   "source": [
    "Beautiful Soup is a Python package for parsing HTML and XML documents (including having malformed markup, i.e. non-closed tags, so named after tag soup). It creates a parse tree for parsed pages that can be used to extract data from HTML, which is useful for web scraping."
   ]
  },
  {
   "cell_type": "markdown",
   "id": "75cca330-40fc-44f7-bd31-e18fa9cc7a1a",
   "metadata": {},
   "source": [
    "Q4. Why is flask used in this Web Scraping project?"
   ]
  },
  {
   "cell_type": "markdown",
   "id": "82758e6e-d178-40ca-b179-3dc21f56125b",
   "metadata": {},
   "source": [
    "Flask is a lightweight framework to build websites. We'll use this to parse our collected data and display it as HTML in a new HTML file. The requests module allows us to send http requests to the website we want to scrape. The first line imports the Flask class and the render_template method from the flask library."
   ]
  },
  {
   "cell_type": "markdown",
   "id": "f4187a8a-f6bc-42c1-a0b0-32cd19d9ce4c",
   "metadata": {},
   "source": [
    "Q5. Write the names of AWS services used in this project. Also, explain the use of each service."
   ]
  },
  {
   "cell_type": "markdown",
   "id": "05048834-b36a-41cb-8433-876ddf40bf85",
   "metadata": {},
   "source": [
    "1.Compute.\n",
    "2.Storage.\n",
    "3Database.\n",
    "Networking & Content Delivery.\n",
    "Analytics.\n",
    "Machine Learning.\n",
    "Security, Identity, & Compliance."
   ]
  },
  {
   "cell_type": "code",
   "execution_count": null,
   "id": "94d63fe9-f47f-4c25-8798-10391fdcc00b",
   "metadata": {},
   "outputs": [],
   "source": []
  }
 ],
 "metadata": {
  "kernelspec": {
   "display_name": "Python 3 (ipykernel)",
   "language": "python",
   "name": "python3"
  },
  "language_info": {
   "codemirror_mode": {
    "name": "ipython",
    "version": 3
   },
   "file_extension": ".py",
   "mimetype": "text/x-python",
   "name": "python",
   "nbconvert_exporter": "python",
   "pygments_lexer": "ipython3",
   "version": "3.10.8"
  }
 },
 "nbformat": 4,
 "nbformat_minor": 5
}
